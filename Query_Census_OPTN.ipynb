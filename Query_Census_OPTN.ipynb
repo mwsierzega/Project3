{
 "cells": [
  {
   "cell_type": "code",
   "execution_count": 98,
   "id": "cf4228fb",
   "metadata": {},
   "outputs": [],
   "source": [
    "%matplotlib inline\n",
    "from matplotlib import style\n",
    "style.use('fivethirtyeight')\n",
    "import matplotlib.pyplot as plt\n",
    "import numpy as np\n",
    "import pandas as pd\n",
    "import sqlite3\n",
    "from sqlite3 import Error"
   ]
  },
  {
   "cell_type": "code",
   "execution_count": 99,
   "id": "8a75e8c4",
   "metadata": {},
   "outputs": [],
   "source": [
    "#create database connection\n",
    "conn = sqlite3.connect('optn_census.db')\n",
    "c = conn.cursor()"
   ]
  },
  {
   "cell_type": "code",
   "execution_count": 100,
   "id": "f24f2f33",
   "metadata": {},
   "outputs": [],
   "source": [
    "census_e = pd.read_csv('output/census_eth_df_drop_t.csv')\n",
    "census_a = pd.read_csv('output/census_age_final_t.csv')"
   ]
  },
  {
   "cell_type": "code",
   "execution_count": 102,
   "id": "f415d8b5",
   "metadata": {},
   "outputs": [
    {
     "name": "stderr",
     "output_type": "stream",
     "text": [
      "/Users/kathleen/opt/anaconda3/envs/PythonData/lib/python3.7/site-packages/pandas/core/generic.py:2882: UserWarning: The spaces in these column names will not be changed. In pandas versions < 0.14, spaces were converted to underscores.\n",
      "  method=method,\n"
     ]
    }
   ],
   "source": [
    "census_e.to_sql('ethnicities_census', conn, if_exists='append', index = False)\n",
    "census_a.to_sql('ages_census', conn, if_exists='append', index = False)"
   ]
  },
  {
   "cell_type": "code",
   "execution_count": 119,
   "id": "aab276df",
   "metadata": {},
   "outputs": [
    {
     "name": "stdout",
     "output_type": "stream",
     "text": [
      "('Alabama', 3281881, 197779, 177870, 275728, 670933, 610041, 679220, 670310)\n"
     ]
    }
   ],
   "source": [
    "data = c.execute(\"SELECT * FROM ages_census WHERE Age = 'Alabama'\")\n",
    "\n",
    "for record in data:\n",
    "    print(record)"
   ]
  },
  {
   "cell_type": "code",
   "execution_count": 123,
   "id": "fbcc78b2",
   "metadata": {},
   "outputs": [
    {
     "name": "stdout",
     "output_type": "stream",
     "text": [
      "('Alabama', 5024279, 264047, 3171351, 1288159, 23119, 75918, 2612, 184618)\n"
     ]
    }
   ],
   "source": [
    "data = c.execute(\"SELECT * FROM ethnicities_census WHERE Ethnicities = 'Alabama'\")\n",
    "\n",
    "for record in data:\n",
    "    print(record)"
   ]
  },
  {
   "cell_type": "code",
   "execution_count": 97,
   "id": "b7d02c46",
   "metadata": {},
   "outputs": [
    {
     "name": "stdout",
     "output_type": "stream",
     "text": [
      "(1, '0-5 years', '11,769,004', '197,779', '27,038', '228,891', '130,752', '831,944', '229,927', '111,684', '30,900', '14,057', '604,141', '326,871', '14,132', '107,222', '452,866', '344,147', '174,642', '145,484', '242,016', '166,683', '64,255', '166,684', '236,122', '430,667', '270,594', '102,101', '298,675', '54,986', '103,558', '77,991', '60,876', '282,695', '49,994', '626,798', '363,157', '45,196', '558,533', '159,162', '162,998', '529,055', '35,794', '184,087', '48,789', '308,798', '946,327', '213,595', '29,312', '305,129', '281,544', '94,398', '265,397', '39,408')\n",
      "(1, '0-5 years', '11,769,004', '197,779', '27,038', '228,891', '130,752', '831,944', '229,927', '111,684', '30,900', '14,057', '604,141', '326,871', '14,132', '107,222', '452,866', '344,147', '174,642', '145,484', '242,016', '166,683', '64,255', '166,684', '236,122', '430,667', '270,594', '102,101', '298,675', '54,986', '103,558', '77,991', '60,876', '282,695', '49,994', '626,798', '363,157', '45,196', '558,533', '159,162', '162,998', '529,055', '35,794', '184,087', '48,789', '308,798', '946,327', '213,595', '29,312', '305,129', '281,544', '94,398', '265,397', '39,408')\n",
      "(1, '0-5 years', '11,769,004', '197,779', '27,038', '228,891', '130,752', '831,944', '229,927', '111,684', '30,900', '14,057', '604,141', '326,871', '14,132', '107,222', '452,866', '344,147', '174,642', '145,484', '242,016', '166,683', '64,255', '166,684', '236,122', '430,667', '270,594', '102,101', '298,675', '54,986', '103,558', '77,991', '60,876', '282,695', '49,994', '626,798', '363,157', '45,196', '558,533', '159,162', '162,998', '529,055', '35,794', '184,087', '48,789', '308,798', '946,327', '213,595', '29,312', '305,129', '281,544', '94,398', '265,397', '39,408')\n"
     ]
    }
   ],
   "source": [
    "data_census = c.execute(\"SELECT * FROM census_ages WHERE Alabama > 1 AND Age = '0-5 years'\")\n",
    "\n",
    "for record in data_census:\n",
    "    print(record) "
   ]
  },
  {
   "cell_type": "code",
   "execution_count": 83,
   "id": "7d617ad5",
   "metadata": {},
   "outputs": [],
   "source": [
    "# Close Session\n",
    "conn.commit()\n",
    "conn.close()"
   ]
  },
  {
   "cell_type": "code",
   "execution_count": null,
   "id": "5d8f7bea",
   "metadata": {},
   "outputs": [],
   "source": []
  }
 ],
 "metadata": {
  "kernelspec": {
   "display_name": "PythonData",
   "language": "python",
   "name": "pythondata"
  },
  "language_info": {
   "codemirror_mode": {
    "name": "ipython",
    "version": 3
   },
   "file_extension": ".py",
   "mimetype": "text/x-python",
   "name": "python",
   "nbconvert_exporter": "python",
   "pygments_lexer": "ipython3",
   "version": "3.7.13"
  }
 },
 "nbformat": 4,
 "nbformat_minor": 5
}
